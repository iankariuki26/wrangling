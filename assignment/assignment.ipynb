{
  "cells": [
    {
      "cell_type": "markdown",
      "id": "13ad028b-72b7-43ed-aa78-96fd4e518040",
      "metadata": {
        "id": "13ad028b-72b7-43ed-aa78-96fd4e518040"
      },
      "source": [
        "# Assignment: Data Wrangling\n",
        "### `! git clone https://github.com/ds4e/wrangling`\n",
        "### Do Q1 and Q2, and either Q3 or Q4, for a total of 3 questions."
      ]
    },
    {
      "cell_type": "markdown",
      "id": "da879ea7-8aac-48a3-b6c2-daea56d2e072",
      "metadata": {
        "id": "da879ea7-8aac-48a3-b6c2-daea56d2e072"
      },
      "source": [
        "**Q1.** This question provides some practice cleaning variables which have common problems.\n",
        "1. Numeric variable: For `./data/airbnb_hw.csv`, clean the `Price` variable as well as you can, and explain the choices you make. How many missing values do you end up with? (Hint: What happens to the formatting when a price goes over 999 dollars, say from 675 to 1,112?)\n",
        "2. Categorical variable: For the Minnesota police use of for data, `./data/mn_police_use_of_force.csv`, clean the `subject_injury` variable, handling the NA's; this gives a value `Yes` when a person was injured by police, and `No` when no injury occurred. What proportion of the values are missing? Is this a concern? Cross-tabulate your cleaned `subject_injury` variable with the `force_type` variable. Are there any patterns regarding when the data are missing? \n",
        "3. Dummy variable: For the pretrial data covered in the lecture, clean the `WhetherDefendantWasReleasedPretrial` variable as well as you can, and, in particular, replace missing values with `np.nan`.\n",
        "4. Missing values, not at random: For the pretrial data covered in the lecture, clean the `ImposedSentenceAllChargeInContactEvent` variable as well as you can, and explain the choices you make. (Hint: Look at the `SentenceTypeAllChargesAtConvictionInContactEvent` variable.)"
      ]
    },
    {
      "cell_type": "code",
      "execution_count": 9,
      "id": "abaa386c",
      "metadata": {},
      "outputs": [
        {
          "data": {
            "text/plain": [
              "['Host Id',\n",
              " 'Host Since',\n",
              " 'Name',\n",
              " 'Neighbourhood ',\n",
              " 'Property Type',\n",
              " 'Review Scores Rating (bin)',\n",
              " 'Room Type',\n",
              " 'Zipcode',\n",
              " 'Beds',\n",
              " 'Number of Records',\n",
              " 'Number Of Reviews',\n",
              " 'Price',\n",
              " 'Review Scores Rating']"
            ]
          },
          "execution_count": 9,
          "metadata": {},
          "output_type": "execute_result"
        }
      ],
      "source": [
        "import numpy as np\n",
        "import matplotlib.pyplot as plt \n",
        "import pandas as pd\n",
        "\n",
        "\n",
        "airbnb = pd.read_csv(\"./data/airbnb_hw.csv\",low_memory=False) #importing the data and storing it into a variable\n",
        "(list(airbnb.columns))"
      ]
    },
    {
      "cell_type": "code",
      "execution_count": 10,
      "id": "0870452a",
      "metadata": {},
      "outputs": [
        {
          "name": "stdout",
          "output_type": "stream",
          "text": [
            "163.58973685937397\n",
            "There are 0 missing values\n",
            "False\n"
          ]
        }
      ],
      "source": [
        "#1\n",
        "\n",
        "airbnb['Price'] = airbnb['Price'].str.replace(r'[\\$,]', '', regex=True) #im removing the dollar sign and the commas from the Price stringsairbnb[\"Price\"] =airbnb[\"Price\"].astype(float) # changing it to a float\n",
        "airbnb[\"Price\"] = airbnb[\"Price\"].astype(float)\n",
        "print(airbnb[\"Price\"].mean())\n",
        "print(\"There are\",airbnb[\"Price\"].isna().sum(),\"missing values\") #I check to see if there are any missing values\n",
        "print((airbnb[\"Price\"]<0).any()) #checks to see if there are any price values less than zero"
      ]
    },
    {
      "cell_type": "code",
      "execution_count": 11,
      "id": "039b5ef5",
      "metadata": {},
      "outputs": [
        {
          "name": "stdout",
          "output_type": "stream",
          "text": [
            "0.7619342359767892 of all cases go unreported\n",
            "12925\n"
          ]
        }
      ],
      "source": [
        "\n",
        "puof= pd.read_csv(\"./data/mn_police_use_of_force.csv\",low_memory=False)\n",
        "num_of_missing_injury_reports = puof[\"subject_injury\"].isnull().sum() # counts the amount of missing values\n",
        "total_num_of_injury_reports = len(puof[\"subject_injury\"]) #the total amount of reports\n",
        "prop_of_missing_injury_reports = num_of_missing_injury_reports/total_num_of_injury_reports #the proportion of missing reports\n",
        "print(prop_of_missing_injury_reports, \"of all cases go unreported\") \n",
        "print(total_num_of_injury_reports)\n"
      ]
    },
    {
      "cell_type": "markdown",
      "id": "f84d2b2c",
      "metadata": {},
      "source": [
        "This is value is concerning because it means that over 3/4 cops do not report whether or not there was an injury, which could lead into questions\n",
        "about whether they are trying to hide the fact that they injured someone as well as other topics of police brutality."
      ]
    },
    {
      "cell_type": "code",
      "execution_count": 12,
      "id": "1aef8d1a",
      "metadata": {},
      "outputs": [
        {
          "name": "stdout",
          "output_type": "stream",
          "text": [
            "force_type      Baton  Bodily Force  Chemical Irritant  Firearm  \\\n",
            "subject_injury                                                    \n",
            "No                  0          1093                131        2   \n",
            "Yes                 2          1286                 41        0   \n",
            "\n",
            "force_type      Gun Point Display  Improvised Weapon  Less Lethal Projectile  \\\n",
            "subject_injury                                                                 \n",
            "No                             33                 34                       1   \n",
            "Yes                            44                 40                       2   \n",
            "\n",
            "force_type      Police K9 Bite  Taser  \n",
            "subject_injury                         \n",
            "No                           2    150  \n",
            "Yes                         44    172  \n"
          ]
        },
        {
          "data": {
            "text/plain": [
              "'bodily force seems to be the most common outcome of reported cases where there is injury, which makes sense since the use off weapons are less by\\ncops compared to the total number of cases. There is likely far more injuries from Bodily force that go unreported since the lack of a use of weapon\\nis far more likely to be overlook and would cause less damage than that of a weapon'"
            ]
          },
          "execution_count": 12,
          "metadata": {},
          "output_type": "execute_result"
        }
      ],
      "source": [
        "\n",
        "crosstab = pd.crosstab(puof['subject_injury'], puof['force_type']) #creates a cross tab of subject injury and force type\n",
        "print(crosstab)\n",
        "\"\"\"bodily force seems to be the most common outcome of reported cases where there is injury, which makes sense since the use off weapons are less by\n",
        "cops compared to the total number of cases. There is likely far more injuries from Bodily force that go unreported since the lack of a use of weapon\n",
        "is far more likely to be overlook and would cause less damage than that of a weapon\"\"\""
      ]
    },
    {
      "cell_type": "code",
      "execution_count": 13,
      "id": "3e8d8a18",
      "metadata": {},
      "outputs": [
        {
          "name": "stdout",
          "output_type": "stream",
          "text": [
            "After coercion: \n",
            " count    22931.000000\n",
            "mean        34.276525\n",
            "std         12.468031\n",
            "min          0.000000\n",
            "25%         24.000000\n",
            "50%         31.000000\n",
            "75%         42.000000\n",
            "max        100.000000\n",
            "Name: age, dtype: float64 \n",
            "\n",
            "[nan  0.  1.]\n"
          ]
        }
      ],
      "source": [
        "#Q3\n",
        "#Dummy variable: For the pretrial data covered in the lecture, clean the \n",
        "# `WhetherDefendantWasReleasedPretrial` variable as well as you can, and, \n",
        "# in particular, replace missing values with `np.nan`.\n",
        "\n",
        "url = 'http://www.vcsc.virginia.gov/pretrialdataproject/October%202017%20Cohort_Virginia%20Pretrial%20Data%20Project_Deidentified%20FINAL%20Update_10272021.csv'\n",
        "df = pd.read_csv(url,low_memory=False)\n",
        "df['sex'] = df['Defendant_Sex'] # Categorical variable example\n",
        "var = 'sex'\n",
        "\n",
        "df['age'] = df['Defendant_Age']\n",
        "df['age'] = pd.to_numeric(df['age'], errors='coerce') # Coerce the variable to numeric\n",
        "\n",
        "\n",
        "print('After coercion: \\n', df['age'].describe(),'\\n') \n",
        "\n",
        "df[\"WhetherDefendantWasReleasedPretrial\"] = df[\"WhetherDefendantWasReleasedPretrial\"].replace(9, np.nan) #here i replace the missing values in WhetherDefendantWasReleasedPretrial with np.nan\n",
        "\n",
        "print(df[\"WhetherDefendantWasReleasedPretrial\"].unique()) #checks the unique values in this column\n",
        "    "
      ]
    },
    {
      "cell_type": "code",
      "execution_count": 14,
      "id": "699d8f90",
      "metadata": {},
      "outputs": [
        {
          "name": "stdout",
          "output_type": "stream",
          "text": [
            "484\n",
            "Missing values count: 0\n"
          ]
        },
        {
          "data": {
            "text/plain": [
              "array([9, 0, 1, 4, 2])"
            ]
          },
          "execution_count": 14,
          "metadata": {},
          "output_type": "execute_result"
        }
      ],
      "source": [
        "#Q4\n",
        "df[\"ImposedSentenceAllChargeInContactEvent\"].isnull().sum() #checking all the missing values\n",
        "\n",
        "print(df[\"ImposedSentenceAllChargeInContactEvent\"].nunique()) #here im checking the number of unique variables in the column\n",
        "\n",
        "\n",
        "missing_count = df[\"ImposedSentenceAllChargeInContactEvent\"].isnull().sum()\n",
        "print(\"Missing values count:\" , missing_count) \n",
        "\n",
        "df[\"SentenceTypeAllChargesAtConvictionInContactEvent\"].unique() # here im\n",
        "\n",
        "##df[\"SentenceTypeAllChargesAtConvictionInContactEvent\"].unique()\n",
        "## I honestly got stuck on this problem"
      ]
    },
    {
      "cell_type": "markdown",
      "id": "5a60a44e",
      "metadata": {},
      "source": [
        "**Q2.** Go to https://sharkattackfile.net/ and download their dataset on shark attacks.\n",
        "\n",
        "1. Open the shark attack file using Pandas. It is probably not a csv file, so `read_csv` won't work.\n",
        "2. Drop any columns that do not contain data.\n",
        "3. Clean the year variable. Describe the range of values you see. Filter the rows to focus on attacks since 1940. Are attacks increasing, decreasing, or remaining constant over time?\n",
        "4. Clean the Age variable and make a histogram of the ages of the victims.\n",
        "5. What proportion of victims are male?\n",
        "6. Clean the `Type` variable so it only takes three values: Provoked and Unprovoked and Unknown. What proportion of attacks are unprovoked?\n",
        "7. Clean the `Fatal Y/N` variable so it only takes three values: Y, N, and Unknown.\n",
        "8. Are sharks more likely to launch unprovoked attacks on men or women? Is the attack more or less likely to be fatal when the attack is provoked or unprovoked? Is it more or less likely to be fatal when the victim is male or female? How do you feel about sharks?\n",
        "9. What proportion of attacks appear to be by white sharks? (Hint: `str.split()` makes a vector of text values into a list of lists, split by spaces.)"
      ]
    },
    {
      "cell_type": "code",
      "execution_count": 15,
      "id": "534d7b44",
      "metadata": {},
      "outputs": [
        {
          "name": "stdout",
          "output_type": "stream",
          "text": [
            "[2025. 2024. 2026. 2023. 2022. 2021. 2020. 2019. 2018. 2017. 2016. 2015.\n",
            " 2014. 2013. 2012. 2011. 2010. 2009. 2008. 2007. 2006. 2005. 2004. 2003.\n",
            " 2002. 2001. 2000. 1999. 1998. 1997. 1996. 1995. 1984. 1994. 1993. 1992.\n",
            " 1991. 1990. 1989. 1969. 1988. 1987. 1986. 1985. 1983. 1982. 1981. 1980.\n",
            " 1979. 1978. 1977. 1976. 1975. 1974. 1973. 1972. 1971. 1970. 1968. 1967.\n",
            " 1966. 1965. 1964. 1963. 1962. 1961. 1960. 1959. 1958. 1957. 1956. 1955.\n",
            " 1954. 1953. 1952. 1951. 1950. 1949. 1948. 1947. 1946. 1945. 1944. 1943.\n",
            " 1942. 1941. 1940.]\n",
            "count    5458.000000\n",
            "mean     1991.937156\n",
            "std        24.083712\n",
            "min      1940.000000\n",
            "25%      1969.000000\n",
            "50%      2000.000000\n",
            "75%      2013.000000\n",
            "max      2026.000000\n",
            "Name: Year, dtype: float64\n"
          ]
        },
        {
          "data": {
            "image/png": "[encoded data removed]",
            "text/plain": [
              "<Figure size 640x480 with 1 Axes>"
            ]
          },
          "metadata": {},
          "output_type": "display_data"
        },
        {
          "data": {
            "text/plain": [
              "'They seem to be increasing over time from 1920 - 2020'"
            ]
          },
          "execution_count": 15,
          "metadata": {},
          "output_type": "execute_result"
        }
      ],
      "source": [
        "#2\n",
        "\n",
        "df = pd.read_excel(\"/Users/iankariuki/UVADS/Machine-Learning1/hw/wrangling/assignment/data/GSAF5.xls\")\n",
        "\n",
        "#2\n",
        "df = df.dropna(axis=1, how='all')# Here I drop any columns dont contain data\n",
        "\n",
        "#3\n",
        "df[\"Year\"] = pd.to_numeric(df[\"Year\"], errors=\"coerce\") #making sure all values are numeric\n",
        "df = df[df[\"Year\"] >= 1940] # only past 1939\n",
        "print(df[\"Year\"].unique()) #checks all the unique years\n",
        "print(df[\"Year\"].describe())\n",
        "\n",
        "\n",
        "df.groupby(\"Year\").size().plot(kind=\"line\") #plotting the shark attacks recordings over the years\n",
        "plt.title(\"Shark Attacks Over Time\")\n",
        "plt.xlabel(\"Year\")\n",
        "plt.ylabel(\"Number of Attacks\")\n",
        "plt.show()\n",
        "\n",
        "\"\"\"They seem to be increasing over time from 1920 - 2020\"\"\"\n",
        "\n"
      ]
    },
    {
      "cell_type": "code",
      "execution_count": 16,
      "id": "bcc11c9c",
      "metadata": {},
      "outputs": [
        {
          "data": {
            "image/png": "[encoded data removed]",
            "text/plain": [
              "<Figure size 640x480 with 1 Axes>"
            ]
          },
          "metadata": {},
          "output_type": "display_data"
        }
      ],
      "source": [
        "#4\n",
        "df.columns\n",
        "\n",
        "df[\"Age\"]\n",
        "df[\"Age\"] = pd.to_numeric(df[\"Age\"], errors=\"coerce\") #changing them into integers\n",
        "\n",
        "df = df.dropna(subset=[\"Age\"]) #dropping all values that are NaN in age\n",
        "df[\"Age\"]\n",
        "\n",
        "df[\"Age\"].plot(kind=\"hist\", bins=30, title=\"Age Distribution of Victims\") #plotting on histogram\n",
        "plt.xlabel(\"Age\")\n",
        "plt.ylabel(\"Frequency\")\n",
        "plt.show()"
      ]
    },
    {
      "cell_type": "code",
      "execution_count": 17,
      "id": "b93e98ab",
      "metadata": {},
      "outputs": [
        {
          "name": "stdout",
          "output_type": "stream",
          "text": [
            "['Male' 'Female' nan]\n",
            "proportion of male attacks = 0.8375948300084294\n"
          ]
        }
      ],
      "source": [
        "#5\n",
        "df[\"Sex\"].unique()\n",
        "df[\"Sex\"] = df[\"Sex\"].str.strip()  # Remove any leading/trailing spaces\n",
        "df[\"Sex\"] = df[\"Sex\"].replace({\"M\": \"Male\", \"F\": \"Female\", \" M\": \"Male\", \"M \": \"Male\"})  # Standardize values\n",
        "\n",
        "df[\"Sex\"] = df[\"Sex\"].replace(\"lli\", np.nan)\n",
        "\n",
        "# Check the cleaned unique values\n",
        "print(df[\"Sex\"].unique())\n",
        "\n",
        "male_total = (df[\"Sex\"]==\"Male\").sum() #amount of male attacks\n",
        "total_attacks = len(df[\"Sex\"]) #total number of attacks\n",
        "\n",
        "\n",
        "print(\"proportion of male attacks =\",male_total/ total_attacks)\n",
        "\n",
        "\n"
      ]
    },
    {
      "cell_type": "code",
      "execution_count": 25,
      "id": "d970d589",
      "metadata": {},
      "outputs": [
        {
          "name": "stdout",
          "output_type": "stream",
          "text": [
            "0.831132340545097\n"
          ]
        }
      ],
      "source": [
        "#6\n",
        "df[\"Type\"].unique()\n",
        "df[\"Type\"] = df[\"Type\"].where(df[\"Type\"].isin([\"Provoked\", \"Unprovoked\"])) #only includinj the unprovoked and provoked\n",
        "df[\"Type\"].unique()\n",
        "unprovoked_proportion = df[df[\"Type\"] == \"Unprovoked\"].shape[0] / len(df[\"Type\"]) #here im finding the proportion of unprovoked attacks\n",
        "print(unprovoked_proportion)"
      ]
    },
    {
      "cell_type": "code",
      "execution_count": 37,
      "id": "090261c4",
      "metadata": {},
      "outputs": [
        {
          "name": "stdout",
          "output_type": "stream",
          "text": [
            "['N' 'Y' 'Unknown']\n"
          ]
        }
      ],
      "source": [
        "#7\n",
        "\n",
        "df[\"Fatal Y/N\"].unique()\n",
        "\n",
        "df[\"Fatal Y/N\"] = df[\"Fatal Y/N\"].where(df[\"Fatal Y/N\"].isin([\"Y\", \"N\",],),\"Unknown\") #only allowing for Y,N, and Unknown\n",
        "\n",
        "# Check the cleaned unique values\n",
        "print(df[\"Fatal Y/N\"].unique())"
      ]
    },
    {
      "cell_type": "code",
      "execution_count": null,
      "id": "e8606eca",
      "metadata": {},
      "outputs": [],
      "source": []
    },
    {
      "cell_type": "markdown",
      "id": "5735a4d4-8be8-433a-a351-70eb8002e632",
      "metadata": {
        "id": "5735a4d4-8be8-433a-a351-70eb8002e632"
      },
      "source": [
        "**Q3.** Open the \"tidy_data.pdf\" document in the repo, which is a paper called Tidy Data by Hadley Wickham.\n",
        "\n",
        "  1. Read the abstract. What is this paper about?\n",
        "  2. Read the introduction. What is the \"tidy data standard\" intended to accomplish?\n",
        "  3. Read the intro to section 2. What does this sentence mean: \"Like families, tidy datasets are all alike but every messy dataset is messy in its own way.\" What does this sentence mean: \"For a given dataset, it’s usually easy to figure out what are observations and what are variables, but it is surprisingly difficult to precisely define variables and observations in general.\"\n",
        "  4. Read Section 2.2. How does Wickham define values, variables, and observations?\n",
        "  5. How is \"Tidy Data\" defined in section 2.3?\n",
        "  6. Read the intro to Section 3 and Section 3.1. What are the 5 most common problems with messy datasets? Why are the data in Table 4 messy? What is \"melting\" a dataset?\n",
        "  7. Why, specifically, is table 11 messy but table 12 tidy and \"molten\"?\n",
        "  8. Read Section 6. What is the \"chicken-and-egg\" problem with focusing on tidy data? What does Wickham hope happens in the future with further work on the subject of data wrangling?"
      ]
    },
    {
      "cell_type": "markdown",
      "id": "649494cd-cfd6-4f80-992a-9994fc19e1d5",
      "metadata": {
        "id": "649494cd-cfd6-4f80-992a-9994fc19e1d5"
      },
      "source": [
        "**Q4.** Many important datasets contain a race variable, typically limited to a handful of values often including Black, White, Asian, Latino, and Indigenous. This question looks at data gathering efforts on this variable by the U.S. Federal government.\n",
        "\n",
        "1. How did the most recent US Census gather data on race?\n",
        "2. Why do we gather these data? What role do these kinds of data play in politics and society? Why does data quality matter?\n",
        "3. Please provide a constructive criticism of how the Census was conducted: What was done well? What do you think was missing? How should future large scale surveys be adjusted to best reflect the diversity of the population? Could some of the Census' good practices be adopted more widely to gather richer and more useful data?\n",
        "4. How did the Census gather data on sex and gender? Please provide a similar constructive criticism of their practices.\n",
        "5. When it comes to cleaning data, what concerns do you have about protected characteristics like sex, gender, sexual identity, or race? What challenges can you imagine arising when there are missing values? What good or bad practices might people adopt, and why?\n",
        "6. Suppose someone invented an algorithm to impute values for protected characteristics like race, gender, sex, or sexuality. What kinds of concerns would you have?"
      ]
    }
  ],
  "metadata": {
    "colab": {
      "provenance": []
    },
    "kernelspec": {
      "display_name": "Python 3",
      "language": "python",
      "name": "python3"
    },
    "language_info": {
      "codemirror_mode": {
        "name": "ipython",
        "version": 3
      },
      "file_extension": ".py",
      "mimetype": "text/x-python",
      "name": "python",
      "nbconvert_exporter": "python",
      "pygments_lexer": "ipython3",
      "version": "3.9.6"
    }
  },
  "nbformat": 4,
  "nbformat_minor": 5
}
